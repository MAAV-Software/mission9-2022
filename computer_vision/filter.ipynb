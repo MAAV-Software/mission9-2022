{
 "cells": [
  {
   "cell_type": "code",
   "execution_count": null,
   "metadata": {},
   "outputs": [],
   "source": [
    "import cv2\n",
    "import matplotlib.pyplot as plt\n",
    "import numpy as np\n",
    "import imutils\n",
    "import math\n",
    "import time"
   ]
  },
  {
   "cell_type": "code",
   "execution_count": null,
   "metadata": {},
   "outputs": [],
   "source": [
    "def hough_inter(line1, line2):\n",
    "    rho1, theta1 = line1\n",
    "    rho2, theta2 = line2\n",
    "    A = np.array([[math.cos(theta1), math.sin(theta1)], \n",
    "                  [math.cos(theta2), math.sin(theta2)]])\n",
    "    b = np.array([rho1, rho2])\n",
    "    ans = np.linalg.lstsq(A, b, rcond=None)[0]\n",
    "    return (int(ans[0]), int(ans[1]))\n",
    "    "
   ]
  },
  {
   "cell_type": "code",
   "execution_count": null,
   "metadata": {},
   "outputs": [],
   "source": [
    "def quadrilateral_area(p1, p2, p3, p4):\n",
    "    return 0.5*((p1[0]*p2[1] + p2[0]*p3[1] + p3[0]*p4[1] + p4[0]*p1[1]) - (p2[0]*p1[1] + p3[0]*p2[1] + p4[0]*p3[1] + p1[0]*p4[1]))"
   ]
  },
  {
   "cell_type": "code",
   "execution_count": null,
   "metadata": {},
   "outputs": [],
   "source": [
    "#Given theta in radians\n",
    "def close_to_verticle(theta):\n",
    "    #verticle lines are integer multiples of pi/2\n",
    "    PI_2 = math.pi / 2\n",
    "    \n",
    "    num = (abs(theta) / PI_2)\n",
    "    closest_pi_over_2 = round(num)\n",
    "    \n",
    "    threshold = 0.05\n",
    "    if abs(num - closest_pi_over_2) < threshold:\n",
    "        return True\n",
    "    \n",
    "#Given theta in radians\n",
    "def close_to_horizontal(theta):\n",
    "    #horizontal lines are integer multiples of pi\n",
    "    PI = math.pi\n",
    "    \n",
    "    num = (abs(theta) / PI)\n",
    "    closest_pi = round(num)\n",
    "    \n",
    "    threshold = 0.1\n",
    "    if abs(num - closest_pi) < threshold:\n",
    "        return True"
   ]
  },
  {
   "cell_type": "code",
   "execution_count": null,
   "metadata": {},
   "outputs": [],
   "source": [
    "#Finds the lines that bound the mast\n",
    "#If image parameter is supplied, it will draw the lines on that image\n",
    "#returns (r, theta) pairs in order of LTRB\n",
    "def find_bounding_lines(edges, image = None):\n",
    "    leftLine = None\n",
    "    rightLine = None\n",
    "    topLine = None\n",
    "    bottomLine = None\n",
    "    \n",
    "    lines = cv2.HoughLines(edges, 1, np.pi/180, 60)\n",
    "    for r_theta in lines:\n",
    "        arr = np.array(r_theta[0], dtype=np.float64)\n",
    "        r, theta = arr\n",
    "        \n",
    "        #check if lines are sortve vertical or sortve horizontal and then see if they beat the extremes\n",
    "        if close_to_horizontal(theta):\n",
    "            if not leftLine:\n",
    "                leftLine = (r, theta)\n",
    "            elif abs(r) < abs(leftLine[0]):\n",
    "                leftLine = (r, theta)\n",
    "            \n",
    "            if not rightLine:\n",
    "                rightLine = (r, theta)\n",
    "            elif abs(r) > abs(rightLine[0]):\n",
    "                rightLine = (r, theta)\n",
    "        elif close_to_verticle(theta):\n",
    "            if not topLine:\n",
    "                topLine = (r, theta)\n",
    "            elif abs(r) < abs(topLine[0]):\n",
    "                topLine = (r, theta)\n",
    "                \n",
    "            if not bottomLine:\n",
    "                bottomLine = (r, theta)\n",
    "            elif abs(r) > abs(bottomLine[0]):\n",
    "                bottomLine = (r, theta)\n",
    "    \n",
    "    return leftLine, topLine, rightLine, bottomLine #left top right bottom"
   ]
  },
  {
   "cell_type": "code",
   "execution_count": null,
   "metadata": {},
   "outputs": [],
   "source": [
    "#### FILTER ALGORITHM ####\n",
    "def algorithm(frame = 25):\n",
    "    image = cv2.imread('mast_imgs/frame_{}.jpg'.format(frame))\n",
    "    \n",
    "    image = image[300:-200, 600:1500, :] #simulatin depth filter of the camera\n",
    "    \"\"\"\n",
    "    m = np.zeros(image.shape[0:2])\n",
    "    m = np.uint8(m)\n",
    "    m[300:-200, 800:-300] = 1\n",
    "    image=cv2.bitwise_and(image, image, mask = m)\n",
    "    \"\"\"\n",
    "    gray = cv2.cvtColor(image, cv2.COLOR_BGR2GRAY)\n",
    "    gray = cv2.GaussianBlur(gray, (5, 5), 0)\n",
    "    \n",
    "\n",
    "    # Do HSV Thresholding\n",
    "    hsv = cv2.cvtColor(image, cv2.COLOR_BGR2HSV)\n",
    "    lower_blue = np.array([60,35,140])\n",
    "    upper_blue = np.array([190,255,255])\n",
    "    mask = cv2.inRange(hsv, lower_blue, upper_blue)\n",
    "    result = cv2.bitwise_and(image, image, mask = mask)\n",
    "\n",
    "    #Canny Edge Detection\n",
    "    edges = cv2.Canny(result, 255/3, 255)\n",
    "\n",
    "    lines = find_bounding_lines(edges=edges, image=None)\n",
    "\n",
    "    left, top, right, bottom = lines\n",
    "\n",
    "    #Display lines for debugging purposes\n",
    "    for r, theta in lines:\n",
    "        a = np.cos(theta); b = np.sin(theta)\n",
    "        x0 = a*r; y0 = b*r\n",
    "        x1 = int(x0 + 1000*(-b)); y1 = int(y0 + 1000*(a))\n",
    "        x2 = int(x0 - 1000*(-b)); y2 = int(y0 - 1000*(a))\n",
    "        cv2.line(image, (x1, y1), (x2, y2), (0, 0, 255), 10)\n",
    "\n",
    "    TL_corner = hough_inter(top, left)\n",
    "    TR_corner = hough_inter(top, right)\n",
    "    BL_corner = hough_inter(bottom, left)\n",
    "    BR_corner = hough_inter(bottom, right)\n",
    "\n",
    "    cv2.circle(image, TL_corner, 10, 255, -1)\n",
    "    cv2.circle(image, TR_corner, 10, 255, -1)\n",
    "    cv2.circle(image, BL_corner, 10, 255, -1)\n",
    "    cv2.circle(image, BR_corner, 10, 255, -1)\n",
    "    \n",
    "    \n",
    "    #Plot Center \n",
    "    center = (int((TL_corner[0] + TR_corner[0] + BL_corner[0] + BR_corner[0])/4), int((TL_corner[1] + TR_corner[1] + BL_corner[1] + BR_corner[1])/4))\n",
    "    cv2.circle(image, center, 5, (0, 120, 255), -1)\n",
    "    \n",
    "    #Get area\n",
    "    area = quadrilateral_area(TL_corner, TR_corner, BR_corner, BL_corner)\n",
    "    \n",
    "    #Get offsets\n",
    "    width, height, _ = image.shape\n",
    "    image_center = (int(height/2), int(width/2))\n",
    "    cv2.circle(image, image_center, 10, (255, 255, 0), -1)\n",
    "    \n",
    "    x_offset = center[0] - image_center[0]\n",
    "    y_offset = center[1] - image_center[1]\n",
    "    \n",
    "    #Get Vanishing Point\n",
    "    vanish_pt = hough_inter(top, bottom)\n",
    "    \n",
    "    print(\"CONTROL PARAMETERS:\")\n",
    "    print(\"  quad area: {}\".format(area))\n",
    "    print(\"  x offset: {}\".format(x_offset))\n",
    "    print(\"  y offset: {}\".format(y_offset))\n",
    "    print(\"  vanish pt: ({},{})\".format(vanish_pt[0], vanish_pt[1]))\n",
    "    \n",
    "    return image, edges, (TL_corner,TR_corner,BR_corner,BL_corner)"
   ]
  },
  {
   "cell_type": "code",
   "execution_count": null,
   "metadata": {},
   "outputs": [],
   "source": [
    "image,edges, corners = algorithm(frame = 68)\n",
    "plt.imshow(image[:,:,::-1]);plt.title(\"Original Image\",fontdict={'fontsize': 25});plt.axis('off');"
   ]
  },
  {
   "cell_type": "code",
   "execution_count": null,
   "metadata": {},
   "outputs": [],
   "source": [
    "#Print Out Edged Image\n",
    "#plt.imshow(edges[:,:]);plt.title(\"Edged Image\",fontdict={'fontsize': 25});plt.axis('off');"
   ]
  },
  {
   "cell_type": "code",
   "execution_count": null,
   "metadata": {},
   "outputs": [],
   "source": [
    "image_n, _, corners_n = algorithm(45)\n",
    "H, _ = cv2.findHomography(np.array(corners), np.array(corners_n))\n",
    "num, Rs, Ts, Ns  = cv2.decomposeHomographyMat(H, np.eye(3)) # use identity matrix as camera matric for now"
   ]
  },
  {
   "cell_type": "code",
   "execution_count": null,
   "metadata": {},
   "outputs": [],
   "source": [
    "possible_sol = []\n",
    "for i in range(num):\n",
    "    if Ts[i][2] >= 0:\n",
    "        possible_sol.append(i)\n",
    "final_sol= None\n",
    "criteria = quadrilateral_area(*corners) >= quadrilateral_area(*corners_n)\n",
    "for i in possible_sol:\n",
    "    if criteria:\n",
    "        if Ts[i][2]:\n",
    "            pass"
   ]
  }
 ],
 "metadata": {
  "kernelspec": {
   "display_name": "Python 3.10.7 64-bit",
   "language": "python",
   "name": "python3"
  },
  "language_info": {
   "codemirror_mode": {
    "name": "ipython",
    "version": 3
   },
   "file_extension": ".py",
   "mimetype": "text/x-python",
   "name": "python",
   "nbconvert_exporter": "python",
   "pygments_lexer": "ipython3",
   "version": "3.10.7"
  },
  "vscode": {
   "interpreter": {
    "hash": "26de051ba29f2982a8de78e945f0abaf191376122a1563185a90213a26c5da77"
   }
  }
 },
 "nbformat": 4,
 "nbformat_minor": 4
}
